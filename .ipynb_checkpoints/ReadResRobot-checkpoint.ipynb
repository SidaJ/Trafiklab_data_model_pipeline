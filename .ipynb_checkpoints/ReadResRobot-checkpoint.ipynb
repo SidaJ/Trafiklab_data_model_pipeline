{
  "cells": [
    {
      "metadata": {
        "trusted": true
      },
      "cell_type": "code",
      "source": "",
      "execution_count": 2,
      "outputs": []
    },
    {
      "metadata": {},
      "cell_type": "markdown",
      "source": "Step 1. Read the ID from station names"
    },
    {
      "metadata": {
        "trusted": true
      },
      "cell_type": "code",
      "source": "import requests \n\nurl1 = \"https://api.resrobot.se/v2/location.name?key=a4961aa1-04e7-42fa-9aa2-0d373e901a01&input=Centralen\"\nresponse = requests.get(url1)\n\nprint(response.status_code)\n",
      "execution_count": null,
      "outputs": []
    },
    {
      "metadata": {
        "trusted": true
      },
      "cell_type": "code",
      "source": "#print(response.content)\nimport pandas as pd\nimport xml.etree.ElementTree as ET\nfrom lxml.etree import fromstring\n\nroot = ET.fromstring(response.content)\nfor child in root.iter('{hafas_rest_v1}StopLocation'):\n    print(child.attrib['id'],child.attrib['name'])\n\ndfcols = ['name','ID','lon','lat']\ndf = pd.DataFrame(columns = dfcols)\n\nfor child in root.iter('{hafas_rest_v1}StopLocation'):\n    name = child.attrib['name']\n    ID = child.attrib['id']\n    lon = child.attrib['lon']\n    lat = child.attrib['lat']\n    df = df.append(pd.Series([name, ID, lon,lat], index = dfcols), ignore_index = True)\n\ndf.head()",
      "execution_count": 23,
      "outputs": [
        {
          "output_type": "stream",
          "text": "740020749 T-Centralen T-bana (Stockholm kn)\n740035997 T-Centralen Spårv (Stockholm kn)\n740001360 Töcksfors Centralen (Årjäng kn)\n740049537 Centralplan (Hallsberg kn)\n740051308 Centralplan (Karlskoga kn)\n740066254 Centralplan (Nacka kn)\n740069144 Centralvägen (Huddinge kn)\n740069868 Centralvägen (Södertälje kn)\n740050578 Centralvägen Frövi (Lindesberg kn)\n740037247 Centrallager nord (Älmhult kn)\n",
          "name": "stdout"
        },
        {
          "output_type": "execute_result",
          "execution_count": 23,
          "data": {
            "text/html": "<div>\n<style scoped>\n    .dataframe tbody tr th:only-of-type {\n        vertical-align: middle;\n    }\n\n    .dataframe tbody tr th {\n        vertical-align: top;\n    }\n\n    .dataframe thead th {\n        text-align: right;\n    }\n</style>\n<table border=\"1\" class=\"dataframe\">\n  <thead>\n    <tr style=\"text-align: right;\">\n      <th></th>\n      <th>name</th>\n      <th>ID</th>\n      <th>lon</th>\n      <th>lat</th>\n    </tr>\n  </thead>\n  <tbody>\n    <tr>\n      <th>0</th>\n      <td>T-Centralen T-bana (Stockholm kn)</td>\n      <td>740020749</td>\n      <td>18.059266</td>\n      <td>59.330945</td>\n    </tr>\n    <tr>\n      <th>1</th>\n      <td>T-Centralen Spårv (Stockholm kn)</td>\n      <td>740035997</td>\n      <td>18.062133</td>\n      <td>59.332131</td>\n    </tr>\n    <tr>\n      <th>2</th>\n      <td>Töcksfors Centralen (Årjäng kn)</td>\n      <td>740001360</td>\n      <td>11.841409</td>\n      <td>59.508572</td>\n    </tr>\n    <tr>\n      <th>3</th>\n      <td>Centralplan (Hallsberg kn)</td>\n      <td>740049537</td>\n      <td>15.338402</td>\n      <td>59.065691</td>\n    </tr>\n    <tr>\n      <th>4</th>\n      <td>Centralplan (Karlskoga kn)</td>\n      <td>740051308</td>\n      <td>14.515179</td>\n      <td>59.326019</td>\n    </tr>\n  </tbody>\n</table>\n</div>",
            "text/plain": "                                name         ID        lon        lat\n0  T-Centralen T-bana (Stockholm kn)  740020749  18.059266  59.330945\n1   T-Centralen Spårv (Stockholm kn)  740035997  18.062133  59.332131\n2    Töcksfors Centralen (Årjäng kn)  740001360  11.841409  59.508572\n3         Centralplan (Hallsberg kn)  740049537  15.338402  59.065691\n4         Centralplan (Karlskoga kn)  740051308  14.515179  59.326019"
          },
          "metadata": {}
        }
      ]
    },
    {
      "metadata": {},
      "cell_type": "markdown",
      "source": "step 2 To get public transport (realtime info) for arrival and departure time at the searched ID"
    },
    {
      "metadata": {
        "trusted": true
      },
      "cell_type": "code",
      "source": "",
      "execution_count": null,
      "outputs": []
    }
  ],
  "metadata": {
    "kernelspec": {
      "name": "python36",
      "display_name": "Python 3.6",
      "language": "python"
    },
    "language_info": {
      "mimetype": "text/x-python",
      "nbconvert_exporter": "python",
      "name": "python",
      "pygments_lexer": "ipython3",
      "version": "3.6.6",
      "file_extension": ".py",
      "codemirror_mode": {
        "version": 3,
        "name": "ipython"
      }
    }
  },
  "nbformat": 4,
  "nbformat_minor": 2
}