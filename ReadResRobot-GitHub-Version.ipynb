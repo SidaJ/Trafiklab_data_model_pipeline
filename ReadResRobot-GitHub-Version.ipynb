{
  "cells": [
    {
      "metadata": {
        "collapsed": true
      },
      "cell_type": "markdown",
      "source": [
        "To automatically predict the congestion level on-board of public transport via open data eg. Trafiklab/Google and data pipeline powered by IBM and other open source community "
      ]
    },
    {
      "metadata": {},
      "cell_type": "markdown",
      "source": [
        "Step 1. Read the ID from station names"
      ]
    },
    {
      "cell_type": "code",
      "execution_count": 1,
      "metadata": {},
      "outputs": [],
      "source": [
        "from collections import OrderedDict\n",
        "import csv\n",
        "import pandas as pd\n",
        "import numpy as np\n",
        "import requests \n",
        "\n",
        "import xml.etree.ElementTree as ET\n",
        "from lxml.etree import fromstring"
      ]
    },
    {
      "metadata": {
        "trusted": true
      },
      "cell_type": "code",
      "source": [
        "dt = pd.read_excel('list_stop_sl_30.xlsx')\n",
        "#dt = pd.DataFrame(dt)\n",
        "r = [0 for i in range(len(dt.index))]\n",
        "\n",
        "\n",
        "\n",
        "for index, row in dt.iterrows():\n",
        "    urls = \"https://api.resrobot.se/v2/location.name?key=XXX&input=\" + row['stopName']\n",
        "    r[index] = requests.get(urls)\n",
        "\n",
        "print(r[0].status_code)    \n"
      ],
      "execution_count": null,
      "outputs": []
    },
    {
      "metadata": {
        "trusted": true
      },
      "cell_type": "code",
      "source": [
        "print(r[:2])\n",
        "#status0 = np.array(r.status_code)\n",
        "#print(np.unique(status0))\n"
      ],
      "execution_count": null,
      "outputs": []
    },
    {
      "metadata": {
        "trusted": true
      },
      "cell_type": "code",
      "source": [
        "dfcols = ['name','ID','lon','lat']\n",
        "df = pd.DataFrame(columns = dfcols)\n",
        "    \n",
        "for el in r:\n",
        "    root = ET.fromstring(el.content)\n",
        "\n",
        "#for child in root.iter('*'):\n",
        "#    print(child.attrib,child.attrib)\n",
        "\n",
        "    for child in root.iter('{hafas_rest_v1}StopLocation'):\n",
        "        name = child.attrib['name']\n",
        "        ID = child.attrib['id']\n",
        "        lon = child.attrib['lon']\n",
        "        lat = child.attrib['lat']\n",
        "        df = df.append(pd.Series([name, ID, lon,lat], index = dfcols), ignore_index = True)\n",
        "\n",
        "print(df.shape)\n",
        "df.head()"
      ],
      "execution_count": null,
      "outputs": []
    },
    {
      "metadata": {
        "trusted": true
      },
      "cell_type": "code",
      "source": [
        "import pickle\n",
        "\n",
        "with open('dataset_30_station_ID.pickle', 'wb') as output:\n",
        "    pickle.dump(df, output)\n",
        "\n",
        "df.to_excel('dataset_30_station_ID.xlsx')"
      ],
      "execution_count": null,
      "outputs": []
    },
    {
      "cell_type": "code",
      "execution_count": null,
      "metadata": {},
      "outputs": [],
      "source": [
        "import pickle\n",
        "\n",
        "# Load data (same as pickled output)\n",
        "with open('dataset_30_station_ID.pickle', 'rb') as data:\n",
        "    df = pickle.load(data)\n",
        "\n",
        "df.head()"
      ]
    },
    {
      "metadata": {
        "trusted": true
      },
      "cell_type": "code",
      "source": [
        "##SJ: working version 1\n",
        "#url1 = \"https://api.resrobot.se/v2/location.name?\"\n",
        "\n",
        "#params1 = OrderedDict([('key','XXX'),('input','Centralen')])\n",
        "#response1 = requests.get(url1, params=params1)\n",
        "\n",
        "#print(response1.status_code)\n",
        "\n",
        "#import pandas as pd\n",
        "#import xml.etree.ElementTree as ET\n",
        "#from lxml.etree import fromstring\n",
        "\n",
        "#root = ET.fromstring(response.content)\n",
        "#for child in root.iter('{hafas_rest_v1}StopLocation'):\n",
        "#    print(child.attrib['id'],child.attrib['name'])\n",
        "\n",
        "#dfcols = ['name','ID','lon','lat']\n",
        "#df = pd.DataFrame(columns = dfcols)\n",
        "\n",
        "#for child in root.iter('{hafas_rest_v1}StopLocation'):\n",
        "#    name = child.attrib['name']\n",
        "#    ID = child.attrib['id']\n",
        "#    lon = child.attrib['lon']\n",
        "#    lat = child.attrib['lat']\n",
        "#    df = df.append(pd.Series([name, ID, lon,lat], index = dfcols), ignore_index = True)\n",
        "\n",
        "#df.head()\n",
        "print(df.shape[0])"
      ],
      "execution_count": null,
      "outputs": []
    },
    {
      "metadata": {},
      "cell_type": "markdown",
      "source": [
        "step 2 To get public transport (realtime info) for arrival and departure time at the searched ID"
      ]
    },
    {
      "metadata": {
        "trusted": true
      },
      "cell_type": "code",
      "source": [
        "r2 = [0 for i in range(df.shape[0])]\n",
        "\n",
        "for index, row in df.iterrows():\n",
        "    urls2 = \"https://api.resrobot.se/v2/departureBoard?key=XXX&id=\" + row['ID']\n",
        "    r2[index] = requests.get(urls2)\n",
        "\n",
        "print(r2[0].status_code)  \n",
        "\n",
        "#url2 = \"https://api.resrobot.se/v2/departureBoard?key=XXX&id=740020749\"\n",
        "#response2 = requests.get(url2)\n"
      ],
      "execution_count": null,
      "outputs": []
    },
    {
      "metadata": {
        "trusted": true
      },
      "cell_type": "code",
      "source": [
        "dfcols2 = ['name','stop','stopid','direction','transportNumber','date','time']\n",
        "df2 = pd.DataFrame(columns = dfcols2)\n",
        "\n",
        "for el in r2:\n",
        "    root2 = ET.fromstring(el.content)\n",
        "\n",
        "    for child in root2.iter('{hafas_rest_v1}Departure'):\n",
        "        lineName = child.attrib['name']\n",
        "        stopName = child.attrib['stop']\n",
        "        stopID = child.attrib['stopid']\n",
        "        lineDirection = child.attrib['direction']\n",
        "        lineNumber = child.attrib['transportNumber']\n",
        "        date = child.attrib['date']\n",
        "        time = child.attrib['time']    \n",
        "        df2 = df2.append(pd.Series([lineName,stopName,stopID,lineDirection,lineNumber,date,time], index = dfcols2), ignore_index = True)\n",
        "\n",
        "df2.head()\n",
        "\n",
        "#root2 = ET.fromstring(response2.content)\n",
        "#for child in root2.iter('{hafas_rest_v1}Departure'):\n",
        "#    print(child.tag,child.attrib)"
      ],
      "execution_count": null,
      "outputs": []
    },
    {
      "metadata": {
        "trusted": true
      },
      "cell_type": "code",
      "source": [
        "import pickle\n",
        "\n",
        "with open('dataset_30_ID_departure_time.pickle', 'wb') as output:\n",
        "    pickle.dump(df2, output)\n",
        "\n",
        "df2.to_excel('dataset_30_ID_departure_time.xlsx')"
      ],
      "execution_count": null,
      "outputs": []
    },
    {
      "cell_type": "code",
      "execution_count": null,
      "metadata": {},
      "outputs": [],
      "source": [
        "# Load data (same as pickled output)\n",
        "with open('dataset_30_ID_departure_time.pickle', 'rb') as data:\n",
        "    df2 = pickle.load(data)\n",
        "\n",
        "df2.head()"
      ]
    },
    {
      "cell_type": "code",
      "execution_count": 3,
      "metadata": {},
      "outputs": [
        {
          "output_type": "stream",
          "name": "stdout",
          "text": "200\nb'<?xml version=\"1.0\" encoding=\"utf-8\"?><ResponseOfListOfSite xmlns:xsd=\"http://www.w3.org/2001/XMLSchema\" xmlns:xsi=\"http://www.w3.org/2001/XMLSchema-instance\"><StatusCode>0</StatusCode><ExecutionTime>0</ExecutionTime><ResponseData><Site><Name>Bagarmossen (Stockholm)</Name><SiteId>9141</SiteId><Type>Station</Type><X>18133508</X><Y>59276596</Y></Site><Site><Name>Bagartorp s\\xc3\\xb6dra (Solna)</Name><SiteId>9957</SiteId><Type>Station</Type><X>17998661</X><Y>59377500</Y></Site><Site><Name>Bagarbyv\\xc3\\xa4gen (Sollentuna)</Name><SiteId>5560</SiteId><Type>Station</Type><X>17942874</X><Y>59424909</Y></Site><Site><Name>Bagartorp (Solna)</Name><SiteId>3441</SiteId><Type>Station</Type><X>17997609</X><Y>59377464</Y></Site><Site><Name>Bagartorp norra (Solna)</Name><SiteId>9956</SiteId><Type>Station</Type><X>18000629</X><Y>59377680</Y></Site><Site><Name>H\\xc3\\xb6kmossens g\\xc3\\xa5rd (Stockholm)</Name><SiteId>1787</SiteId><Type>Station</Type><X>17993123</X><Y>59288974</Y></Site><Site><Name>Baggeby (p\\xc3\\xa5 Mosstorpsv\\xc3\\xa4gen) (Liding\\xc3\\xb6)</Name><SiteId>2064</SiteId><Type>Station</Type><X>18137688</X><Y>59357202</Y></Site><Site><Name>Pr\\xc3\\xa4stg\\xc3\\xa5rdsmossen (V\\xc3\\xa4rmd\\xc3\\xb6)</Name><SiteId>4429</SiteId><Type>Station</Type><X>18718085</X><Y>59336105</Y></Site><Site><Name>Gillermossen (Upplands V\\xc3\\xa4sby)</Name><SiteId>5264</SiteId><Type>Station</Type><X>18006472</X><Y>59631104</Y></Site><Site><Name>Stora mossen (Stockholm)</Name><SiteId>9111</SiteId><Type>Station</Type><X>17967423</X><Y>59334783</Y></Site><Site><Name>Bj\\xc3\\xb6rkmossen (S\\xc3\\xb6dert\\xc3\\xa4lje)</Name><SiteId>7937</SiteId><Type>Station</Type><X>17646616</X><Y>59219640</Y></Site><Site><Name>H\\xc3\\xb6kmossen (Stockholm)</Name><SiteId>1630</SiteId><Type>Station</Type><X>17991712</X><Y>59290215</Y></Site><Site><Name>Baggeby g\\xc3\\xa5rds v\\xc3\\xa4g (Liding\\xc3\\xb6)</Name><SiteId>2074</SiteId><Type>Station</Type><X>18130299</X><Y>59357400</Y></Site><Site><Name>K\\xc3\\xa4llmossen (Sigtuna)</Name><SiteId>5263</SiteId><Type>Station</Type><X>18004225</X><Y>59628704</Y></Site><Site><Name>Torpmossen (Vallentuna)</Name><SiteId>2464</SiteId><Type>Station</Type><X>18286333</X><Y>59653010</Y></Site><Site><Name>Baggeby g\\xc3\\xa5rd (Liding\\xc3\\xb6)</Name><SiteId>8925</SiteId><Type>Station</Type><X>18128267</X><Y>59356771</Y></Site><Site><Name>Bj\\xc3\\xb6rnmossev\\xc3\\xa4gen (Stockholm)</Name><SiteId>3837</SiteId><Type>Station</Type><X>17849125</X><Y>59379334</Y></Site><Site><Name>B\\xc3\\xb6le mosse (V\\xc3\\xa4rmd\\xc3\\xb6)</Name><SiteId>4216</SiteId><Type>Station</Type><X>18374275</X><Y>59338559</Y></Site><Site><Name>R\\xc3\\xb6dmossev\\xc3\\xa4gen (Huddinge)</Name><SiteId>7162</SiteId><Type>Station</Type><X>18087294</X><Y>59228126</Y></Site><Site><Name>Torvmossegr\\xc3\\xa4nd (T\\xc3\\xa4by)</Name><SiteId>2312</SiteId><Type>Station</Type><X>18012998</X><Y>59443175</Y></Site><Site><Name>Tistelmossestr\\xc3\\xa5ket (V\\xc3\\xa4rmd\\xc3\\xb6)</Name><SiteId>4539</SiteId><Type>Station</Type><X>18615393</X><Y>59335359</Y></Site></ResponseData></ResponseOfListOfSite>'\n"
        }
      ],
      "source": [
        "url30 = \"https://api.sl.se/api2/typeahead.xml?\" #json instead of xml\n",
        "\n",
        "#SJ: interested in bus that usually been over-loaded\n",
        "params30 = OrderedDict([('key','XXX'),('searchstring','Bagarmossen'),('maxresults','50')]) #\n",
        "response30 = requests.get(url30, params=params30)\n",
        "\n",
        "print(response30.status_code)\n",
        "print(response30.content)"
      ]
    },
    {
      "cell_type": "code",
      "execution_count": 12,
      "metadata": {},
      "outputs": [
        {
          "output_type": "stream",
          "name": "stdout",
          "text": "ResponseOfListOfSite None\nStatusCode 0\nExecutionTime 0\nResponseData None\nSite None\nName Bagarmossen (Stockholm)\nSiteId 9141\nType Station\nX 18133508\nY 59276596\nSite None\nName Bagartorp södra (Solna)\nSiteId 9957\nType Station\nX 17998661\nY 59377500\nSite None\nName Bagarbyvägen (Sollentuna)\nSiteId 5560\nType Station\nX 17942874\nY 59424909\nSite None\nName Bagartorp (Solna)\nSiteId 3441\nType Station\nX 17997609\nY 59377464\nSite None\nName Bagartorp norra (Solna)\nSiteId 9956\nType Station\nX 18000629\nY 59377680\nSite None\nName Hökmossens gård (Stockholm)\nSiteId 1787\nType Station\nX 17993123\nY 59288974\nSite None\nName Baggeby (på Mosstorpsvägen) (Lidingö)\nSiteId 2064\nType Station\nX 18137688\nY 59357202\nSite None\nName Prästgårdsmossen (Värmdö)\nSiteId 4429\nType Station\nX 18718085\nY 59336105\nSite None\nName Gillermossen (Upplands Väsby)\nSiteId 5264\nType Station\nX 18006472\nY 59631104\nSite None\nName Stora mossen (Stockholm)\nSiteId 9111\nType Station\nX 17967423\nY 59334783\nSite None\nName Björkmossen (Södertälje)\nSiteId 7937\nType Station\nX 17646616\nY 59219640\nSite None\nName Hökmossen (Stockholm)\nSiteId 1630\nType Station\nX 17991712\nY 59290215\nSite None\nName Baggeby gårds väg (Lidingö)\nSiteId 2074\nType Station\nX 18130299\nY 59357400\nSite None\nName Källmossen (Sigtuna)\nSiteId 5263\nType Station\nX 18004225\nY 59628704\nSite None\nName Torpmossen (Vallentuna)\nSiteId 2464\nType Station\nX 18286333\nY 59653010\nSite None\nName Baggeby gård (Lidingö)\nSiteId 8925\nType Station\nX 18128267\nY 59356771\nSite None\nName Björnmossevägen (Stockholm)\nSiteId 3837\nType Station\nX 17849125\nY 59379334\nSite None\nName Böle mosse (Värmdö)\nSiteId 4216\nType Station\nX 18374275\nY 59338559\nSite None\nName Rödmossevägen (Huddinge)\nSiteId 7162\nType Station\nX 18087294\nY 59228126\nSite None\nName Torvmossegränd (Täby)\nSiteId 2312\nType Station\nX 18012998\nY 59443175\nSite None\nName Tistelmossestråket (Värmdö)\nSiteId 4539\nType Station\nX 18615393\nY 59335359\n0 Bagarmossen (Stockholm)\n1 Bagartorp södra (Solna)\n2 Bagarbyvägen (Sollentuna)\n3 Bagartorp (Solna)\n4 Bagartorp norra (Solna)\n5 Hökmossens gård (Stockholm)\n6 Baggeby (på Mosstorpsvägen) (Lidingö)\n7 Prästgårdsmossen (Värmdö)\n8 Gillermossen (Upplands Väsby)\n9 Stora mossen (Stockholm)\n10 Björkmossen (Södertälje)\n11 Hökmossen (Stockholm)\n12 Baggeby gårds väg (Lidingö)\n13 Källmossen (Sigtuna)\n14 Torpmossen (Vallentuna)\n15 Baggeby gård (Lidingö)\n16 Björnmossevägen (Stockholm)\n17 Böle mosse (Värmdö)\n18 Rödmossevägen (Huddinge)\n19 Torvmossegränd (Täby)\n20 Tistelmossestråket (Värmdö)\nName\n"
        },
        {
          "output_type": "execute_result",
          "data": {
            "text/plain": "                        Name SiteId     Type         X         Y\n0    Bagarmossen (Stockholm)   9141  Station  18133508  59276596\n1    Bagartorp södra (Solna)   9957  Station  17998661  59377500\n2  Bagarbyvägen (Sollentuna)   5560  Station  17942874  59424909\n3          Bagartorp (Solna)   3441  Station  17997609  59377464\n4    Bagartorp norra (Solna)   9956  Station  18000629  59377680",
            "text/html": "<div>\n<style scoped>\n    .dataframe tbody tr th:only-of-type {\n        vertical-align: middle;\n    }\n\n    .dataframe tbody tr th {\n        vertical-align: top;\n    }\n\n    .dataframe thead th {\n        text-align: right;\n    }\n</style>\n<table border=\"1\" class=\"dataframe\">\n  <thead>\n    <tr style=\"text-align: right;\">\n      <th></th>\n      <th>Name</th>\n      <th>SiteId</th>\n      <th>Type</th>\n      <th>X</th>\n      <th>Y</th>\n    </tr>\n  </thead>\n  <tbody>\n    <tr>\n      <th>0</th>\n      <td>Bagarmossen (Stockholm)</td>\n      <td>9141</td>\n      <td>Station</td>\n      <td>18133508</td>\n      <td>59276596</td>\n    </tr>\n    <tr>\n      <th>1</th>\n      <td>Bagartorp södra (Solna)</td>\n      <td>9957</td>\n      <td>Station</td>\n      <td>17998661</td>\n      <td>59377500</td>\n    </tr>\n    <tr>\n      <th>2</th>\n      <td>Bagarbyvägen (Sollentuna)</td>\n      <td>5560</td>\n      <td>Station</td>\n      <td>17942874</td>\n      <td>59424909</td>\n    </tr>\n    <tr>\n      <th>3</th>\n      <td>Bagartorp (Solna)</td>\n      <td>3441</td>\n      <td>Station</td>\n      <td>17997609</td>\n      <td>59377464</td>\n    </tr>\n    <tr>\n      <th>4</th>\n      <td>Bagartorp norra (Solna)</td>\n      <td>9956</td>\n      <td>Station</td>\n      <td>18000629</td>\n      <td>59377680</td>\n    </tr>\n  </tbody>\n</table>\n</div>"
          },
          "metadata": {},
          "execution_count": 12
        }
      ],
      "source": [
        "root30 = ET.fromstring(response30.content)\n",
        "for child in root30.iter('*'):\n",
        "    print(child.tag,child.text)\n",
        "\n",
        "N = 0\n",
        "for index, child in enumerate(root30.iter('Name')):\n",
        "    print(index,child.text)\n",
        "    N = N + 1\n",
        "\n",
        "dfcols30 = ['Name','SiteId','Type','X','Y']\n",
        "df30 = pd.DataFrame(index=range(N),columns = dfcols30)\n",
        "df30 = df30.fillna(0)\n",
        "\n",
        "print(dfcols30[0])\n",
        "\n",
        "##for el in r2:\n",
        "##    root2 = ET.fromstring(el.content)\n",
        "for col in range(len(dfcols30)):\n",
        "    for index, child in enumerate(root30.iter(dfcols30[col])):\n",
        "        df30.iloc[[index],[col]] = child.text \n",
        "\n",
        "df30.head()"
      ]
    },
    {
      "cell_type": "code",
      "execution_count": 13,
      "metadata": {},
      "outputs": [],
      "source": [
        "import pickle\n",
        "\n",
        "with open('dataset_SL_siteid_bagis.pickle', 'wb') as output:\n",
        "    pickle.dump(df30, output)\n",
        "\n",
        "from openpyxl.workbook import Workbook\n",
        "\n",
        "df30.to_excel('dataset_SL_siteid_bagis.xlsx')"
      ]
    },
    {
      "cell_type": "code",
      "execution_count": 2,
      "metadata": {},
      "outputs": [
        {
          "output_type": "stream",
          "name": "stdout",
          "text": "200\nb'<?xml version=\"1.0\" encoding=\"utf-8\"?><ResponseOfListOfDeviation xmlns:xsd=\"http://www.w3.org/2001/XMLSchema\" xmlns:xsi=\"http://www.w3.org/2001/XMLSchema-instance\"><StatusCode>0</StatusCode><ExecutionTime>51</ExecutionTime><ResponseData><Deviation><Created>2020-01-16T15:08:42.107+01:00</Created><MainNews>false</MainNews><SortOrder>1</SortOrder><Header>Flyttade h\\xc3\\xa5llplatser f\\xc3\\xb6r linje 163 och 180</Header><Details>F\\xc3\\xb6r\\xc3\\xa4ndringar f\\xc3\\xb6r linje 163 och 180 i K\\xc3\\xa4rrtorp fr\\xc3\\xa5n 21 januari p\\xc3\\xa5 grund av ombyggnation av busstorget. Detta ber\\xc3\\xa4knas p\\xc3\\xa5g\\xc3\\xa5 till och med maj 2021.\\r\\n\\r\\nH\\xc3\\xa5llplatsen f\\xc3\\xb6r linje 163 flyttas upp till L\\xc3\\xa5gsk\\xc3\\xa4rsv\\xc3\\xa4gen utanf\\xc3\\xb6r Coop.\\r\\nH\\xc3\\xa5llplatsen f\\xc3\\xb6r linje 180 flyttas upp till L\\xc3\\xa5gsk\\xc3\\xa4rsv\\xc3\\xa4gen utanf\\xc3\\xb6r Kulturskolan.</Details><Scope>Ombyggnation i K\\xc3\\xa4rrtorp</Scope><DevCaseGid>9076001019795870</DevCaseGid><DevMessageVersionNumber>1</DevMessageVersionNumber><ScopeElements>Buss 163, 180, 194</ScopeElements><FromDateTime>2020-01-21T05:00:00</FromDateTime><UpToDateTime>2021-05-30T23:59:00</UpToDateTime><Updated>2020-01-16T15:08:42.107+01:00</Updated></Deviation><Deviation><Created>2020-01-08T17:31:35.883+01:00</Created><MainNews>false</MainNews><SortOrder>1</SortOrder><Header>H\\xc3\\xa5llplats Slussen flyttad</Header><Details>H\\xc3\\xa5llplats Slussen \\xc3\\xa4r flyttad ca 75 meter fram\\xc3\\xa5t i f\\xc3\\xa4rdriktningen f\\xc3\\xb6r bl\\xc3\\xa5buss 2 mot Norrtull och buss 492 mot Centralen, 496 mot Slussen, 497 mot Slussen-Saltsj\\xc3\\xb6baden-Slussen (ringlinje), 55 mot Hjorthagen, 76 mot Ropsten och 96 mot Odenplan fr\\xc3\\xa5n och med 2019-12-13 pga v\\xc3\\xa4garbete.\\r\\nDetta planeras p\\xc3\\xa5g\\xc3\\xa5 till och med 2020-08-24.</Details><Scope>Bl\\xc3\\xa5buss 2; Buss 55, 76, 96, 492, 496, 497</Scope><DevCaseGid>9076001019069496</DevCaseGid><DevMessageVersionNumber>2</DevMessageVersionNumber><ScopeElements>Bl\\xc3\\xa5buss 2; Buss 55, 76, 96, 492, 496, 497</ScopeElements><FromDateTime>2020-01-08T17:31:35.853</FromDateTime><UpToDateTime>2020-08-24T16:00:00</UpToDateTime><Updated>2020-01-08T17:31:35.883+01:00</Updated></Deviation><Deviation><Created>2019-12-10T20:19:17.9+01:00</Created><MainNews>false</MainNews><SortOrder>1</SortOrder><Header>H\\xc3\\xa5llplats Slussen flyttad</Header><Details>H\\xc3\\xa5llplats Slussen \\xc3\\xa4r flyttad ca 75 meter f\\xc3\\xb6r buss 491 mot Centralen fr\\xc3\\xa5n och med 2019-12-13 p\\xc3\\xa5 grund av v\\xc3\\xa4garbete.\\r\\nDetta planeras p\\xc3\\xa5g\\xc3\\xa5 till och med 2020-08-24.</Details><Scope>Buss 491</Scope><DevCaseGid>9076001019070342</DevCaseGid><DevMessageVersionNumber>1</DevMessageVersionNumber><ScopeElements>Buss 491</ScopeElements><FromDateTime>2019-12-13T00:00:00</FromDateTime><UpToDateTime>2020-08-24T23:30:00</UpToDateTime><Updated>2019-12-10T20:19:17.9+01:00</Updated></Deviation></ResponseData></ResponseOfListOfDeviation>'\n"
        }
      ],
      "source": [
        "url3 = \"https://api.sl.se/api2/deviations.xml?\" #json instead of xml\n",
        "\n",
        "#SJ: interested in bus that usually been over-loaded\n",
        "params3 = OrderedDict([('key','XXX'),('transportMode','bus'),('siteId','9192')]) #\n",
        "response3 = requests.get(url3, params=params3)\n",
        "\n",
        "print(response3.status_code)\n",
        "print(response3.content)"
      ]
    },
    {
      "cell_type": "code",
      "execution_count": 26,
      "metadata": {},
      "outputs": [
        {
          "output_type": "stream",
          "name": "stdout",
          "text": "ResponseOfListOfDeviation\n0 Ombyggnation i Kärrtorp\n1 Blåbuss 2; Buss 55, 76, 96, 492, 496, 497\n2 Buss 491\nScopeElements\n"
        },
        {
          "output_type": "execute_result",
          "data": {
            "text/plain": "                               ScopeElements  \\\n0                         Buss 163, 180, 194   \n1  Blåbuss 2; Buss 55, 76, 96, 492, 496, 497   \n2                                   Buss 491   \n\n                                       Scope             FromDateTime  \\\n0                    Ombyggnation i Kärrtorp      2020-01-21T05:00:00   \n1  Blåbuss 2; Buss 55, 76, 96, 492, 496, 497  2020-01-08T17:31:35.853   \n2                                   Buss 491      2019-12-13T00:00:00   \n\n          UpToDateTime                        Created  \\\n0  2021-05-30T23:59:00  2020-01-16T15:08:42.107+01:00   \n1  2020-08-24T16:00:00  2020-01-08T17:31:35.883+01:00   \n2  2020-08-24T23:30:00    2019-12-10T20:19:17.9+01:00   \n\n                                             Details  \n0  Förändringar för linje 163 och 180 i Kärrtorp ...  \n1  Hållplats Slussen är flyttad ca 75 meter framå...  \n2  Hållplats Slussen är flyttad ca 75 meter för b...  ",
            "text/html": "<div>\n<style scoped>\n    .dataframe tbody tr th:only-of-type {\n        vertical-align: middle;\n    }\n\n    .dataframe tbody tr th {\n        vertical-align: top;\n    }\n\n    .dataframe thead th {\n        text-align: right;\n    }\n</style>\n<table border=\"1\" class=\"dataframe\">\n  <thead>\n    <tr style=\"text-align: right;\">\n      <th></th>\n      <th>ScopeElements</th>\n      <th>Scope</th>\n      <th>FromDateTime</th>\n      <th>UpToDateTime</th>\n      <th>Created</th>\n      <th>Details</th>\n    </tr>\n  </thead>\n  <tbody>\n    <tr>\n      <th>0</th>\n      <td>Buss 163, 180, 194</td>\n      <td>Ombyggnation i Kärrtorp</td>\n      <td>2020-01-21T05:00:00</td>\n      <td>2021-05-30T23:59:00</td>\n      <td>2020-01-16T15:08:42.107+01:00</td>\n      <td>Förändringar för linje 163 och 180 i Kärrtorp ...</td>\n    </tr>\n    <tr>\n      <th>1</th>\n      <td>Blåbuss 2; Buss 55, 76, 96, 492, 496, 497</td>\n      <td>Blåbuss 2; Buss 55, 76, 96, 492, 496, 497</td>\n      <td>2020-01-08T17:31:35.853</td>\n      <td>2020-08-24T16:00:00</td>\n      <td>2020-01-08T17:31:35.883+01:00</td>\n      <td>Hållplats Slussen är flyttad ca 75 meter framå...</td>\n    </tr>\n    <tr>\n      <th>2</th>\n      <td>Buss 491</td>\n      <td>Buss 491</td>\n      <td>2019-12-13T00:00:00</td>\n      <td>2020-08-24T23:30:00</td>\n      <td>2019-12-10T20:19:17.9+01:00</td>\n      <td>Hållplats Slussen är flyttad ca 75 meter för b...</td>\n    </tr>\n  </tbody>\n</table>\n</div>"
          },
          "metadata": {},
          "execution_count": 26
        }
      ],
      "source": [
        "root3 = ET.fromstring(response3.content)\n",
        "print(root3.tag)\n",
        "\n",
        "N = 0\n",
        "for index, child in enumerate(root3.iter('Scope')):\n",
        "    print(index,child.text)\n",
        "    N = N + 1\n",
        "\n",
        "dfcols3 = ['ScopeElements','Scope','FromDateTime','UpToDateTime','Created','Details']\n",
        "df3 = pd.DataFrame(index=range(N),columns = dfcols3)\n",
        "df3 = df3.fillna(0)\n",
        "\n",
        "print(dfcols3[0])\n",
        "\n",
        "##for el in r2:\n",
        "##    root2 = ET.fromstring(el.content)\n",
        "for col in range(len(dfcols3)):\n",
        "    for index, child in enumerate(root3.iter(dfcols3[col])):\n",
        "        df3.iloc[[index],[col]] = child.text \n",
        "\n",
        "import pickle\n",
        "\n",
        "with open('dataset_traffic_infov1.pickle', 'wb') as output:\n",
        "    pickle.dump(df3, output)\n",
        "\n",
        "from openpyxl.workbook import Workbook\n",
        "\n",
        "df3.to_excel('dataset_traffic_infov1.xlsx')\n",
        "\n",
        "df3.head()"
      ]
    },
    {
      "cell_type": "code",
      "execution_count": 50,
      "metadata": {},
      "outputs": [
        {
          "output_type": "execute_result",
          "data": {
            "text/plain": "Empty DataFrame\nColumns: [ScopeElements, Scope, FromDateTime, UpToDateTime, Created, Details]\nIndex: []",
            "text/html": "<div>\n<style scoped>\n    .dataframe tbody tr th:only-of-type {\n        vertical-align: middle;\n    }\n\n    .dataframe tbody tr th {\n        vertical-align: top;\n    }\n\n    .dataframe thead th {\n        text-align: right;\n    }\n</style>\n<table border=\"1\" class=\"dataframe\">\n  <thead>\n    <tr style=\"text-align: right;\">\n      <th></th>\n      <th>ScopeElements</th>\n      <th>Scope</th>\n      <th>FromDateTime</th>\n      <th>UpToDateTime</th>\n      <th>Created</th>\n      <th>Details</th>\n    </tr>\n  </thead>\n  <tbody>\n  </tbody>\n</table>\n</div>"
          },
          "metadata": {},
          "execution_count": 50
        }
      ],
      "source": [
        "df3.head()"
      ]
    },
    {
      "cell_type": "code",
      "execution_count": null,
      "metadata": {},
      "outputs": [],
      "source": [
        "\n",
        "    stopName = child.attrib['stop']\n",
        "    stopID = child.attrib['stopid']\n",
        "    lineDirection = child.attrib['direction']\n",
        "    lineNumber = child.attrib['transportNumber']\n",
        "    date = child.attrib['date']\n",
        "    time = child.attrib['time']    \n",
        "    df2 = df2.append(pd.Series([lineName,stopName,stopID,lineDirection,lineNumber,date,time], index = dfcols2), ignore_index = True)\n",
        "\n",
        "df2.head()"
      ]
    },
    {
      "metadata": {
        "trusted": true
      },
      "cell_type": "code",
      "source": [
        "root_tmp = ET.fromstring(response2.content)\n",
        "for child in root_tmp.iter('{hafas_rest_v1}Stops'):\n",
        "    for gchild in child.iter('*'):\n",
        "        print(gchild.tag,gchild.attrib)"
      ],
      "execution_count": null,
      "outputs": []
    },
    {
      "metadata": {
        "trusted": true
      },
      "cell_type": "code",
      "source": [],
      "execution_count": null,
      "outputs": []
    }
  ],
  "metadata": {
    "kernelspec": {
      "name": "python38232bit21131b60d1ca4ff9b145ba9629bb7739",
      "display_name": "Python 3.8.2 32-bit",
      "language": "python"
    },
    "language_info": {
      "mimetype": "text/x-python",
      "nbconvert_exporter": "python",
      "name": "python",
      "pygments_lexer": "ipython3",
      "version": "3.8.2-final",
      "file_extension": ".py",
      "codemirror_mode": {
        "version": 3,
        "name": "ipython"
      }
    }
  },
  "nbformat": 4,
  "nbformat_minor": 2
}