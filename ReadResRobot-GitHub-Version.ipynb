{
  "cells": [
    {
      "metadata": {
        "collapsed": true
      },
      "cell_type": "markdown",
      "source": [
        "To automatically predict the congestion level on-board of public transport via open data eg. Trafiklab/Google and data pipeline powered by IBM and other open source community "
      ]
    },
    {
      "metadata": {},
      "cell_type": "markdown",
      "source": [
        "Step 1. Read the ID from station names"
      ]
    },
    {
      "cell_type": "code",
      "execution_count": 25,
      "metadata": {},
      "outputs": [],
      "source": [
        "from collections import OrderedDict\n",
        "import csv\n",
        "import pandas as pd\n",
        "import numpy as np\n",
        "import requests \n",
        "\n",
        "import xml.etree.ElementTree as ET\n",
        "from lxml.etree import fromstring"
      ]
    },
    {
      "metadata": {
        "trusted": true
      },
      "cell_type": "code",
      "source": [
        "dt = pd.read_excel('list_stop_sl_30.xlsx')\n",
        "#dt = pd.DataFrame(dt)\n",
        "r = [0 for i in range(len(dt.index))]\n",
        "\n",
        "\n",
        "\n",
        "for index, row in dt.iterrows():\n",
        "    urls = \"https://api.resrobot.se/v2/location.name?key=XXX&input=\" + row['stopName']\n",
        "    r[index] = requests.get(urls)\n",
        "\n",
        "print(r[0].status_code)    \n"
      ],
      "execution_count": null,
      "outputs": []
    },
    {
      "metadata": {
        "trusted": true
      },
      "cell_type": "code",
      "source": [
        "print(r[:2])\n",
        "#status0 = np.array(r.status_code)\n",
        "#print(np.unique(status0))\n"
      ],
      "execution_count": null,
      "outputs": []
    },
    {
      "metadata": {
        "trusted": true
      },
      "cell_type": "code",
      "source": [
        "dfcols = ['name','ID','lon','lat']\n",
        "df = pd.DataFrame(columns = dfcols)\n",
        "    \n",
        "for el in r:\n",
        "    root = ET.fromstring(el.content)\n",
        "\n",
        "#for child in root.iter('*'):\n",
        "#    print(child.attrib,child.attrib)\n",
        "\n",
        "    for child in root.iter('{hafas_rest_v1}StopLocation'):\n",
        "        name = child.attrib['name']\n",
        "        ID = child.attrib['id']\n",
        "        lon = child.attrib['lon']\n",
        "        lat = child.attrib['lat']\n",
        "        df = df.append(pd.Series([name, ID, lon,lat], index = dfcols), ignore_index = True)\n",
        "\n",
        "print(df.shape)\n",
        "df.head()"
      ],
      "execution_count": null,
      "outputs": []
    },
    {
      "metadata": {
        "trusted": true
      },
      "cell_type": "code",
      "source": [
        "import pickle\n",
        "\n",
        "with open('dataset_30_station_ID.pickle', 'wb') as output:\n",
        "    pickle.dump(df, output)\n",
        "\n",
        "df.to_excel('dataset_30_station_ID.xlsx')"
      ],
      "execution_count": null,
      "outputs": []
    },
    {
      "cell_type": "code",
      "execution_count": null,
      "metadata": {},
      "outputs": [],
      "source": [
        "import pickle\n",
        "\n",
        "# Load data (same as pickled output)\n",
        "with open('dataset_30_station_ID.pickle', 'rb') as data:\n",
        "    df = pickle.load(data)\n",
        "\n",
        "df.head()"
      ]
    },
    {
      "metadata": {
        "trusted": true
      },
      "cell_type": "code",
      "source": [
        "##SJ: working version 1\n",
        "#url1 = \"https://api.resrobot.se/v2/location.name?\"\n",
        "\n",
        "#params1 = OrderedDict([('key','XXX'),('input','Centralen')])\n",
        "#response1 = requests.get(url1, params=params1)\n",
        "\n",
        "#print(response1.status_code)\n",
        "\n",
        "#import pandas as pd\n",
        "#import xml.etree.ElementTree as ET\n",
        "#from lxml.etree import fromstring\n",
        "\n",
        "#root = ET.fromstring(response.content)\n",
        "#for child in root.iter('{hafas_rest_v1}StopLocation'):\n",
        "#    print(child.attrib['id'],child.attrib['name'])\n",
        "\n",
        "#dfcols = ['name','ID','lon','lat']\n",
        "#df = pd.DataFrame(columns = dfcols)\n",
        "\n",
        "#for child in root.iter('{hafas_rest_v1}StopLocation'):\n",
        "#    name = child.attrib['name']\n",
        "#    ID = child.attrib['id']\n",
        "#    lon = child.attrib['lon']\n",
        "#    lat = child.attrib['lat']\n",
        "#    df = df.append(pd.Series([name, ID, lon,lat], index = dfcols), ignore_index = True)\n",
        "\n",
        "#df.head()\n",
        "print(df.shape[0])"
      ],
      "execution_count": null,
      "outputs": []
    },
    {
      "metadata": {},
      "cell_type": "markdown",
      "source": [
        "step 2 To get public transport (realtime info) for arrival and departure time at the searched ID"
      ]
    },
    {
      "metadata": {
        "trusted": true
      },
      "cell_type": "code",
      "source": [
        "r2 = [0 for i in range(df.shape[0])]\n",
        "\n",
        "for index, row in df.iterrows():\n",
        "    urls2 = \"https://api.resrobot.se/v2/departureBoard?key=XXX&id=\" + row['ID']\n",
        "    r2[index] = requests.get(urls2)\n",
        "\n",
        "print(r2[0].status_code)  \n",
        "\n",
        "#url2 = \"https://api.resrobot.se/v2/departureBoard?key=XXX&id=740020749\"\n",
        "#response2 = requests.get(url2)\n"
      ],
      "execution_count": null,
      "outputs": []
    },
    {
      "metadata": {
        "trusted": true
      },
      "cell_type": "code",
      "source": [
        "dfcols2 = ['name','stop','stopid','direction','transportNumber','date','time']\n",
        "df2 = pd.DataFrame(columns = dfcols2)\n",
        "\n",
        "for el in r2:\n",
        "    root2 = ET.fromstring(el.content)\n",
        "\n",
        "    for child in root2.iter('{hafas_rest_v1}Departure'):\n",
        "        lineName = child.attrib['name']\n",
        "        stopName = child.attrib['stop']\n",
        "        stopID = child.attrib['stopid']\n",
        "        lineDirection = child.attrib['direction']\n",
        "        lineNumber = child.attrib['transportNumber']\n",
        "        date = child.attrib['date']\n",
        "        time = child.attrib['time']    \n",
        "        df2 = df2.append(pd.Series([lineName,stopName,stopID,lineDirection,lineNumber,date,time], index = dfcols2), ignore_index = True)\n",
        "\n",
        "df2.head()\n",
        "\n",
        "#root2 = ET.fromstring(response2.content)\n",
        "#for child in root2.iter('{hafas_rest_v1}Departure'):\n",
        "#    print(child.tag,child.attrib)"
      ],
      "execution_count": null,
      "outputs": []
    },
    {
      "metadata": {
        "trusted": true
      },
      "cell_type": "code",
      "source": [
        "import pickle\n",
        "\n",
        "with open('dataset_30_ID_departure_time.pickle', 'wb') as output:\n",
        "    pickle.dump(df2, output)\n",
        "\n",
        "df2.to_excel('dataset_30_ID_departure_time.xlsx')"
      ],
      "execution_count": null,
      "outputs": []
    },
    {
      "cell_type": "code",
      "execution_count": null,
      "metadata": {},
      "outputs": [],
      "source": [
        "# Load data (same as pickled output)\n",
        "with open('dataset_30_ID_departure_time.pickle', 'rb') as data:\n",
        "    df2 = pickle.load(data)\n",
        "\n",
        "df2.head()"
      ]
    },
    {
      "cell_type": "code",
      "execution_count": 2,
      "metadata": {},
      "outputs": [
        {
          "output_type": "stream",
          "name": "stdout",
          "text": "200\nb'<?xml version=\"1.0\" encoding=\"utf-8\"?><ResponseOfListOfDeviation xmlns:xsd=\"http://www.w3.org/2001/XMLSchema\" xmlns:xsi=\"http://www.w3.org/2001/XMLSchema-instance\"><StatusCode>0</StatusCode><ExecutionTime>51</ExecutionTime><ResponseData><Deviation><Created>2020-01-16T15:08:42.107+01:00</Created><MainNews>false</MainNews><SortOrder>1</SortOrder><Header>Flyttade h\\xc3\\xa5llplatser f\\xc3\\xb6r linje 163 och 180</Header><Details>F\\xc3\\xb6r\\xc3\\xa4ndringar f\\xc3\\xb6r linje 163 och 180 i K\\xc3\\xa4rrtorp fr\\xc3\\xa5n 21 januari p\\xc3\\xa5 grund av ombyggnation av busstorget. Detta ber\\xc3\\xa4knas p\\xc3\\xa5g\\xc3\\xa5 till och med maj 2021.\\r\\n\\r\\nH\\xc3\\xa5llplatsen f\\xc3\\xb6r linje 163 flyttas upp till L\\xc3\\xa5gsk\\xc3\\xa4rsv\\xc3\\xa4gen utanf\\xc3\\xb6r Coop.\\r\\nH\\xc3\\xa5llplatsen f\\xc3\\xb6r linje 180 flyttas upp till L\\xc3\\xa5gsk\\xc3\\xa4rsv\\xc3\\xa4gen utanf\\xc3\\xb6r Kulturskolan.</Details><Scope>Ombyggnation i K\\xc3\\xa4rrtorp</Scope><DevCaseGid>9076001019795870</DevCaseGid><DevMessageVersionNumber>1</DevMessageVersionNumber><ScopeElements>Buss 163, 180, 194</ScopeElements><FromDateTime>2020-01-21T05:00:00</FromDateTime><UpToDateTime>2021-05-30T23:59:00</UpToDateTime><Updated>2020-01-16T15:08:42.107+01:00</Updated></Deviation><Deviation><Created>2020-01-08T17:31:35.883+01:00</Created><MainNews>false</MainNews><SortOrder>1</SortOrder><Header>H\\xc3\\xa5llplats Slussen flyttad</Header><Details>H\\xc3\\xa5llplats Slussen \\xc3\\xa4r flyttad ca 75 meter fram\\xc3\\xa5t i f\\xc3\\xa4rdriktningen f\\xc3\\xb6r bl\\xc3\\xa5buss 2 mot Norrtull och buss 492 mot Centralen, 496 mot Slussen, 497 mot Slussen-Saltsj\\xc3\\xb6baden-Slussen (ringlinje), 55 mot Hjorthagen, 76 mot Ropsten och 96 mot Odenplan fr\\xc3\\xa5n och med 2019-12-13 pga v\\xc3\\xa4garbete.\\r\\nDetta planeras p\\xc3\\xa5g\\xc3\\xa5 till och med 2020-08-24.</Details><Scope>Bl\\xc3\\xa5buss 2; Buss 55, 76, 96, 492, 496, 497</Scope><DevCaseGid>9076001019069496</DevCaseGid><DevMessageVersionNumber>2</DevMessageVersionNumber><ScopeElements>Bl\\xc3\\xa5buss 2; Buss 55, 76, 96, 492, 496, 497</ScopeElements><FromDateTime>2020-01-08T17:31:35.853</FromDateTime><UpToDateTime>2020-08-24T16:00:00</UpToDateTime><Updated>2020-01-08T17:31:35.883+01:00</Updated></Deviation><Deviation><Created>2019-12-10T20:19:17.9+01:00</Created><MainNews>false</MainNews><SortOrder>1</SortOrder><Header>H\\xc3\\xa5llplats Slussen flyttad</Header><Details>H\\xc3\\xa5llplats Slussen \\xc3\\xa4r flyttad ca 75 meter f\\xc3\\xb6r buss 491 mot Centralen fr\\xc3\\xa5n och med 2019-12-13 p\\xc3\\xa5 grund av v\\xc3\\xa4garbete.\\r\\nDetta planeras p\\xc3\\xa5g\\xc3\\xa5 till och med 2020-08-24.</Details><Scope>Buss 491</Scope><DevCaseGid>9076001019070342</DevCaseGid><DevMessageVersionNumber>1</DevMessageVersionNumber><ScopeElements>Buss 491</ScopeElements><FromDateTime>2019-12-13T00:00:00</FromDateTime><UpToDateTime>2020-08-24T23:30:00</UpToDateTime><Updated>2019-12-10T20:19:17.9+01:00</Updated></Deviation></ResponseData></ResponseOfListOfDeviation>'\n"
        }
      ],
      "source": [
        "url3 = \"https://api.sl.se/api2/deviations.xml?\" #json instead of xml\n",
        "\n",
        "#SJ: interested in bus that usually been over-loaded\n",
        "params3 = OrderedDict([('key','XXX'),('transportMode','bus'),('siteId','9192')]) #\n",
        "response3 = requests.get(url3, params=params3)\n",
        "\n",
        "print(response3.status_code)\n",
        "print(response3.content)"
      ]
    },
    {
      "cell_type": "code",
      "execution_count": 26,
      "metadata": {},
      "outputs": [
        {
          "output_type": "stream",
          "name": "stdout",
          "text": "ResponseOfListOfDeviation\n0 Ombyggnation i Kärrtorp\n1 Blåbuss 2; Buss 55, 76, 96, 492, 496, 497\n2 Buss 491\nScopeElements\n"
        },
        {
          "output_type": "execute_result",
          "data": {
            "text/plain": "                               ScopeElements  \\\n0                         Buss 163, 180, 194   \n1  Blåbuss 2; Buss 55, 76, 96, 492, 496, 497   \n2                                   Buss 491   \n\n                                       Scope             FromDateTime  \\\n0                    Ombyggnation i Kärrtorp      2020-01-21T05:00:00   \n1  Blåbuss 2; Buss 55, 76, 96, 492, 496, 497  2020-01-08T17:31:35.853   \n2                                   Buss 491      2019-12-13T00:00:00   \n\n          UpToDateTime                        Created  \\\n0  2021-05-30T23:59:00  2020-01-16T15:08:42.107+01:00   \n1  2020-08-24T16:00:00  2020-01-08T17:31:35.883+01:00   \n2  2020-08-24T23:30:00    2019-12-10T20:19:17.9+01:00   \n\n                                             Details  \n0  Förändringar för linje 163 och 180 i Kärrtorp ...  \n1  Hållplats Slussen är flyttad ca 75 meter framå...  \n2  Hållplats Slussen är flyttad ca 75 meter för b...  ",
            "text/html": "<div>\n<style scoped>\n    .dataframe tbody tr th:only-of-type {\n        vertical-align: middle;\n    }\n\n    .dataframe tbody tr th {\n        vertical-align: top;\n    }\n\n    .dataframe thead th {\n        text-align: right;\n    }\n</style>\n<table border=\"1\" class=\"dataframe\">\n  <thead>\n    <tr style=\"text-align: right;\">\n      <th></th>\n      <th>ScopeElements</th>\n      <th>Scope</th>\n      <th>FromDateTime</th>\n      <th>UpToDateTime</th>\n      <th>Created</th>\n      <th>Details</th>\n    </tr>\n  </thead>\n  <tbody>\n    <tr>\n      <th>0</th>\n      <td>Buss 163, 180, 194</td>\n      <td>Ombyggnation i Kärrtorp</td>\n      <td>2020-01-21T05:00:00</td>\n      <td>2021-05-30T23:59:00</td>\n      <td>2020-01-16T15:08:42.107+01:00</td>\n      <td>Förändringar för linje 163 och 180 i Kärrtorp ...</td>\n    </tr>\n    <tr>\n      <th>1</th>\n      <td>Blåbuss 2; Buss 55, 76, 96, 492, 496, 497</td>\n      <td>Blåbuss 2; Buss 55, 76, 96, 492, 496, 497</td>\n      <td>2020-01-08T17:31:35.853</td>\n      <td>2020-08-24T16:00:00</td>\n      <td>2020-01-08T17:31:35.883+01:00</td>\n      <td>Hållplats Slussen är flyttad ca 75 meter framå...</td>\n    </tr>\n    <tr>\n      <th>2</th>\n      <td>Buss 491</td>\n      <td>Buss 491</td>\n      <td>2019-12-13T00:00:00</td>\n      <td>2020-08-24T23:30:00</td>\n      <td>2019-12-10T20:19:17.9+01:00</td>\n      <td>Hållplats Slussen är flyttad ca 75 meter för b...</td>\n    </tr>\n  </tbody>\n</table>\n</div>"
          },
          "metadata": {},
          "execution_count": 26
        }
      ],
      "source": [
        "root3 = ET.fromstring(response3.content)\n",
        "print(root3.tag)\n",
        "\n",
        "N = 0\n",
        "for index, child in enumerate(root3.iter('Scope')):\n",
        "    print(index,child.text)\n",
        "    N = N + 1\n",
        "\n",
        "dfcols3 = ['ScopeElements','Scope','FromDateTime','UpToDateTime','Created','Details']\n",
        "df3 = pd.DataFrame(index=range(N),columns = dfcols3)\n",
        "df3 = df3.fillna(0)\n",
        "\n",
        "print(dfcols3[0])\n",
        "\n",
        "##for el in r2:\n",
        "##    root2 = ET.fromstring(el.content)\n",
        "for col in range(len(dfcols3)):\n",
        "    for index, child in enumerate(root3.iter(dfcols3[col])):\n",
        "        df3.iloc[[index],[col]] = child.text \n",
        "\n",
        "import pickle\n",
        "\n",
        "with open('dataset_traffic_infov1.pickle', 'wb') as output:\n",
        "    pickle.dump(df3, output)\n",
        "\n",
        "from openpyxl.workbook import Workbook\n",
        "\n",
        "df3.to_excel('dataset_traffic_infov1.xlsx')\n",
        "\n",
        "df3.head()"
      ]
    },
    {
      "cell_type": "code",
      "execution_count": 50,
      "metadata": {},
      "outputs": [
        {
          "output_type": "execute_result",
          "data": {
            "text/plain": "Empty DataFrame\nColumns: [ScopeElements, Scope, FromDateTime, UpToDateTime, Created, Details]\nIndex: []",
            "text/html": "<div>\n<style scoped>\n    .dataframe tbody tr th:only-of-type {\n        vertical-align: middle;\n    }\n\n    .dataframe tbody tr th {\n        vertical-align: top;\n    }\n\n    .dataframe thead th {\n        text-align: right;\n    }\n</style>\n<table border=\"1\" class=\"dataframe\">\n  <thead>\n    <tr style=\"text-align: right;\">\n      <th></th>\n      <th>ScopeElements</th>\n      <th>Scope</th>\n      <th>FromDateTime</th>\n      <th>UpToDateTime</th>\n      <th>Created</th>\n      <th>Details</th>\n    </tr>\n  </thead>\n  <tbody>\n  </tbody>\n</table>\n</div>"
          },
          "metadata": {},
          "execution_count": 50
        }
      ],
      "source": [
        "df3.head()"
      ]
    },
    {
      "cell_type": "code",
      "execution_count": null,
      "metadata": {},
      "outputs": [],
      "source": [
        "\n",
        "    stopName = child.attrib['stop']\n",
        "    stopID = child.attrib['stopid']\n",
        "    lineDirection = child.attrib['direction']\n",
        "    lineNumber = child.attrib['transportNumber']\n",
        "    date = child.attrib['date']\n",
        "    time = child.attrib['time']    \n",
        "    df2 = df2.append(pd.Series([lineName,stopName,stopID,lineDirection,lineNumber,date,time], index = dfcols2), ignore_index = True)\n",
        "\n",
        "df2.head()"
      ]
    },
    {
      "metadata": {
        "trusted": true
      },
      "cell_type": "code",
      "source": [
        "root_tmp = ET.fromstring(response2.content)\n",
        "for child in root_tmp.iter('{hafas_rest_v1}Stops'):\n",
        "    for gchild in child.iter('*'):\n",
        "        print(gchild.tag,gchild.attrib)"
      ],
      "execution_count": null,
      "outputs": []
    },
    {
      "metadata": {
        "trusted": true
      },
      "cell_type": "code",
      "source": [],
      "execution_count": null,
      "outputs": []
    }
  ],
  "metadata": {
    "kernelspec": {
      "name": "python38232bit21131b60d1ca4ff9b145ba9629bb7739",
      "display_name": "Python 3.8.2 32-bit",
      "language": "python"
    },
    "language_info": {
      "mimetype": "text/x-python",
      "nbconvert_exporter": "python",
      "name": "python",
      "pygments_lexer": "ipython3",
      "version": "3.8.2-final",
      "file_extension": ".py",
      "codemirror_mode": {
        "version": 3,
        "name": "ipython"
      }
    }
  },
  "nbformat": 4,
  "nbformat_minor": 2
}