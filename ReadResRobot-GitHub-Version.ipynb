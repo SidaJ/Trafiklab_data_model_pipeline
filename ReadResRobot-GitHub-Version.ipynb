{
  "cells": [
    {
      "metadata": {
        "collapsed": true
      },
      "cell_type": "markdown",
      "source": "To automatically predict the congestion level on-board of public transport via open data eg. Trafiklab/Google and data pipeline powered by IBM and other open source community "
    },
    {
      "metadata": {},
      "cell_type": "markdown",
      "source": "Step 1. Read the ID from station names"
    },
    {
      "metadata": {
        "trusted": true
      },
      "cell_type": "code",
      "source": "from collections import OrderedDict\nimport csv\nimport pandas as pd\nimport numpy as np\nimport requests \n\ndt = pd.read_excel('list_stop_sl_30.xlsx')\n#dt = pd.DataFrame(dt)\nr = [0 for i in range(len(dt.index))]\n\n\n\nfor index, row in dt.iterrows():\n    urls = \"https://api.resrobot.se/v2/location.name?key=YOURKEY&input=\" + row['stopName']\n    r[index] = requests.get(urls)\n\nprint(r[0].status_code)    \n",
      "execution_count": 1,
      "outputs": [
        {
          "output_type": "stream",
          "text": "200\n",
          "name": "stdout"
        }
      ]
    },
    {
      "metadata": {
        "trusted": true
      },
      "cell_type": "code",
      "source": "print(r[:2])\n#status0 = np.array(r.status_code)\n#print(np.unique(status0))\n",
      "execution_count": 2,
      "outputs": [
        {
          "output_type": "stream",
          "text": "[<Response [200]>, <Response [200]>]\n",
          "name": "stdout"
        }
      ]
    },
    {
      "metadata": {
        "trusted": true
      },
      "cell_type": "code",
      "source": "import xml.etree.ElementTree as ET\nfrom lxml.etree import fromstring\n\ndfcols = ['name','ID','lon','lat']\ndf = pd.DataFrame(columns = dfcols)\n    \nfor el in r:\n    root = ET.fromstring(el.content)\n\n#for child in root.iter('*'):\n#    print(child.attrib,child.attrib)\n\n    for child in root.iter('{hafas_rest_v1}StopLocation'):\n        name = child.attrib['name']\n        ID = child.attrib['id']\n        lon = child.attrib['lon']\n        lat = child.attrib['lat']\n        df = df.append(pd.Series([name, ID, lon,lat], index = dfcols), ignore_index = True)\n\nprint(df.shape)\ndf.head()",
      "execution_count": 3,
      "outputs": [
        {
          "output_type": "stream",
          "text": "(124, 4)\n",
          "name": "stdout"
        },
        {
          "output_type": "execute_result",
          "execution_count": 3,
          "data": {
            "text/html": "<div>\n<style scoped>\n    .dataframe tbody tr th:only-of-type {\n        vertical-align: middle;\n    }\n\n    .dataframe tbody tr th {\n        vertical-align: top;\n    }\n\n    .dataframe thead th {\n        text-align: right;\n    }\n</style>\n<table border=\"1\" class=\"dataframe\">\n  <thead>\n    <tr style=\"text-align: right;\">\n      <th></th>\n      <th>name</th>\n      <th>ID</th>\n      <th>lon</th>\n      <th>lat</th>\n    </tr>\n  </thead>\n  <tbody>\n    <tr>\n      <th>0</th>\n      <td>Stavsnäs vinterhamn (Värmdö kn)</td>\n      <td>740001312</td>\n      <td>18.704808</td>\n      <td>59.286511</td>\n    </tr>\n    <tr>\n      <th>1</th>\n      <td>Stavsnäs by (Värmdö kn)</td>\n      <td>740024823</td>\n      <td>18.689473</td>\n      <td>59.28723</td>\n    </tr>\n    <tr>\n      <th>2</th>\n      <td>Styrsvik brygga (Värmdö kn)</td>\n      <td>740025723</td>\n      <td>18.731488</td>\n      <td>59.280165</td>\n    </tr>\n    <tr>\n      <th>3</th>\n      <td>Styrsviks vsk (Ronneby kn)</td>\n      <td>740032401</td>\n      <td>15.357657</td>\n      <td>56.137006</td>\n    </tr>\n    <tr>\n      <th>4</th>\n      <td>Nämdöböte brygga (Värmdö kn)</td>\n      <td>740012544</td>\n      <td>18.73983</td>\n      <td>59.208557</td>\n    </tr>\n  </tbody>\n</table>\n</div>",
            "text/plain": "                              name         ID        lon        lat\n0  Stavsnäs vinterhamn (Värmdö kn)  740001312  18.704808  59.286511\n1          Stavsnäs by (Värmdö kn)  740024823  18.689473   59.28723\n2      Styrsvik brygga (Värmdö kn)  740025723  18.731488  59.280165\n3       Styrsviks vsk (Ronneby kn)  740032401  15.357657  56.137006\n4     Nämdöböte brygga (Värmdö kn)  740012544   18.73983  59.208557"
          },
          "metadata": {}
        }
      ]
    },
    {
      "metadata": {
        "trusted": true
      },
      "cell_type": "code",
      "source": "import pickle\n\nwith open('dataset_30_station_ID.pickle', 'wb') as output:\n    pickle.dump(df, output)\n\ndf.to_excel('dataset_30_station_ID.xlsx')",
      "execution_count": 61,
      "outputs": []
    },
    {
      "metadata": {},
      "cell_type": "markdown",
      "source": "step 2 To get public transport (realtime info) for arrival and departure time at the searched ID"
    },
    {
      "metadata": {
        "trusted": true
      },
      "cell_type": "code",
      "source": "r2 = [0 for i in range(df.shape[0])]\n\nfor index, row in df.iterrows():\n    urls2 = \"https://api.resrobot.se/v2/departureBoard?key=YOURKEY&id=\" + row['ID']\n    r2[index] = requests.get(urls2)\n\nprint(r2[0].status_code)  \n",
      "execution_count": 8,
      "outputs": [
        {
          "output_type": "stream",
          "text": "200\n",
          "name": "stdout"
        }
      ]
    },
    {
      "metadata": {
        "trusted": true
      },
      "cell_type": "code",
      "source": "dfcols2 = ['name','stop','stopid','direction','transportNumber','date','time']\ndf2 = pd.DataFrame(columns = dfcols2)\n\nfor el in r2:\n    root2 = ET.fromstring(el.content)\n\n    for child in root2.iter('{hafas_rest_v1}Departure'):\n        lineName = child.attrib['name']\n        stopName = child.attrib['stop']\n        stopID = child.attrib['stopid']\n        lineDirection = child.attrib['direction']\n        lineNumber = child.attrib['transportNumber']\n        date = child.attrib['date']\n        time = child.attrib['time']    \n        df2 = df2.append(pd.Series([lineName,stopName,stopID,lineDirection,lineNumber,date,time], index = dfcols2), ignore_index = True)\n\ndf2.head()\n\n#root2 = ET.fromstring(response2.content)\n#for child in root2.iter('{hafas_rest_v1}Departure'):\n#    print(child.tag,child.attrib)",
      "execution_count": 9,
      "outputs": [
        {
          "output_type": "execute_result",
          "execution_count": 9,
          "data": {
            "text/html": "<div>\n<style scoped>\n    .dataframe tbody tr th:only-of-type {\n        vertical-align: middle;\n    }\n\n    .dataframe tbody tr th {\n        vertical-align: top;\n    }\n\n    .dataframe thead th {\n        text-align: right;\n    }\n</style>\n<table border=\"1\" class=\"dataframe\">\n  <thead>\n    <tr style=\"text-align: right;\">\n      <th></th>\n      <th>name</th>\n      <th>stop</th>\n      <th>stopid</th>\n      <th>direction</th>\n      <th>transportNumber</th>\n      <th>date</th>\n      <th>time</th>\n    </tr>\n  </thead>\n  <tbody>\n    <tr>\n      <th>0</th>\n      <td>Länstrafik - Buss 434</td>\n      <td>Stavsnäs vinterhamn (Värmdö kn)</td>\n      <td>740001312</td>\n      <td>Sollenkroka brygga (Värmdö kn)</td>\n      <td>434</td>\n      <td>2020-05-03</td>\n      <td>13:34:00</td>\n    </tr>\n    <tr>\n      <th>1</th>\n      <td>Länstrafik - Buss 433</td>\n      <td>Stavsnäs vinterhamn (Värmdö kn)</td>\n      <td>740001312</td>\n      <td>Slussen T-bana (Stockholm kn)</td>\n      <td>433</td>\n      <td>2020-05-03</td>\n      <td>13:42:00</td>\n    </tr>\n    <tr>\n      <th>2</th>\n      <td>Länstrafik - Buss 434</td>\n      <td>Stavsnäs vinterhamn (Värmdö kn)</td>\n      <td>740001312</td>\n      <td>Slussen T-bana (Stockholm kn)</td>\n      <td>434</td>\n      <td>2020-05-03</td>\n      <td>13:42:00</td>\n    </tr>\n    <tr>\n      <th>3</th>\n      <td>Länstrafik - Färja 16</td>\n      <td>Stavsnäs vinterhamn (Värmdö kn)</td>\n      <td>740001312</td>\n      <td>Hagede brygga (Värmdö kn)</td>\n      <td>16</td>\n      <td>2020-05-03</td>\n      <td>14:10:00</td>\n    </tr>\n    <tr>\n      <th>4</th>\n      <td>Länstrafik - Buss 433</td>\n      <td>Stavsnäs vinterhamn (Värmdö kn)</td>\n      <td>740001312</td>\n      <td>Slussen T-bana (Stockholm kn)</td>\n      <td>433</td>\n      <td>2020-05-03</td>\n      <td>14:12:00</td>\n    </tr>\n  </tbody>\n</table>\n</div>",
            "text/plain": "                    name                             stop     stopid  \\\n0  Länstrafik - Buss 434  Stavsnäs vinterhamn (Värmdö kn)  740001312   \n1  Länstrafik - Buss 433  Stavsnäs vinterhamn (Värmdö kn)  740001312   \n2  Länstrafik - Buss 434  Stavsnäs vinterhamn (Värmdö kn)  740001312   \n3  Länstrafik - Färja 16  Stavsnäs vinterhamn (Värmdö kn)  740001312   \n4  Länstrafik - Buss 433  Stavsnäs vinterhamn (Värmdö kn)  740001312   \n\n                        direction transportNumber        date      time  \n0  Sollenkroka brygga (Värmdö kn)             434  2020-05-03  13:34:00  \n1   Slussen T-bana (Stockholm kn)             433  2020-05-03  13:42:00  \n2   Slussen T-bana (Stockholm kn)             434  2020-05-03  13:42:00  \n3       Hagede brygga (Värmdö kn)              16  2020-05-03  14:10:00  \n4   Slussen T-bana (Stockholm kn)             433  2020-05-03  14:12:00  "
          },
          "metadata": {}
        }
      ]
    },
    {
      "metadata": {
        "trusted": true
      },
      "cell_type": "code",
      "source": "import pickle\n\nwith open('dataset_30_ID_departure_time.pickle', 'wb') as output:\n    pickle.dump(df2, output)\n\ndf2.to_excel('dataset_30_ID_departure_time.xlsx')",
      "execution_count": 11,
      "outputs": []
    },
    {
      "metadata": {
        "trusted": true
      },
      "cell_type": "code",
      "source": "",
      "execution_count": null,
      "outputs": []
    }
  ],
  "metadata": {
    "kernelspec": {
      "name": "python36",
      "display_name": "Python 3.6",
      "language": "python"
    },
    "language_info": {
      "mimetype": "text/x-python",
      "nbconvert_exporter": "python",
      "name": "python",
      "pygments_lexer": "ipython3",
      "version": "3.6.6",
      "file_extension": ".py",
      "codemirror_mode": {
        "version": 3,
        "name": "ipython"
      }
    }
  },
  "nbformat": 4,
  "nbformat_minor": 2
}